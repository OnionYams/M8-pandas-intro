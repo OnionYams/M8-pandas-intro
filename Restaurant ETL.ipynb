{
 "cells": [
  {
   "cell_type": "code",
   "execution_count": 48,
   "id": "aa5447f1",
   "metadata": {},
   "outputs": [],
   "source": [
    "import pandas as pd\n"
   ]
  },
  {
   "cell_type": "code",
   "execution_count": 49,
   "id": "a7987f81-0349-464f-900d-c4c2fa943f2f",
   "metadata": {},
   "outputs": [],
   "source": [
    "payments = pd.read_csv('chefmozaccepts.csv')\n",
    "parking = pd.read_csv('chefmozparking.csv')\n",
    "cuisine = pd.read_csv('chefmozcuisine.csv')\n",
    "ratings = pd.read_csv('rating_final.csv')"
   ]
  },
  {
   "cell_type": "code",
   "execution_count": 57,
   "id": "05f0e8c5-553e-48e8-ada8-5781bc0e8c8f",
   "metadata": {},
   "outputs": [
    {
     "name": "stdout",
     "output_type": "stream",
     "text": [
      "      placeID                                           Rpayment\n",
      "0      135110  cash VISA MasterCard-Eurocard American_Express...\n",
      "1      135110  cash VISA MasterCard-Eurocard American_Express...\n",
      "2      135110  cash VISA MasterCard-Eurocard American_Express...\n",
      "3      135110  cash VISA MasterCard-Eurocard American_Express...\n",
      "4      135110  cash VISA MasterCard-Eurocard American_Express...\n",
      "...       ...                                                ...\n",
      "1309   132012  Visa American_Express bank_debit_cards Diners_...\n",
      "1310   132002  MasterCard-Eurocard Visa American_Express Dine...\n",
      "1311   132002  MasterCard-Eurocard Visa American_Express Dine...\n",
      "1312   132002  MasterCard-Eurocard Visa American_Express Dine...\n",
      "1313   132002  MasterCard-Eurocard Visa American_Express Dine...\n",
      "\n",
      "[1314 rows x 2 columns]\n"
     ]
    }
   ],
   "source": [
    "payments[\"Rpayment\"] = payments.groupby('placeID')[\"Rpayment\"].transform(lambda x : ' '.join(x))\n",
    "print(payments) "
   ]
  },
  {
   "cell_type": "code",
   "execution_count": 51,
   "id": "171c718d-f483-4274-9bd6-19e02c539128",
   "metadata": {},
   "outputs": [
    {
     "name": "stdout",
     "output_type": "stream",
     "text": [
      "           pays   pays2\n",
      "placeID                \n",
      "132012   street  public\n",
      "132023   public     fee\n",
      "132024   street  street\n",
      "132026      fee     fee\n",
      "132030   street  street\n",
      "...         ...     ...\n",
      "135107     none    none\n",
      "135108     none    none\n",
      "135109     none    none\n",
      "135110     none    none\n",
      "135111   public  public\n",
      "\n",
      "[675 rows x 2 columns]\n"
     ]
    }
   ],
   "source": [
    "print(parking.groupby('placeID').agg( parking1 = (\"parking_lot\", \"max\"), parking2 = (\"parking_lot\", \"min\")))"
   ]
  },
  {
   "cell_type": "code",
   "execution_count": 58,
   "id": "476baab0-a4b4-400b-825c-dc96016a4d6b",
   "metadata": {},
   "outputs": [
    {
     "name": "stdout",
     "output_type": "stream",
     "text": [
      "     placeID        Rcuisine\n",
      "0     135110         Spanish\n",
      "1     135109         Italian\n",
      "2     135107  Latin_American\n",
      "3     135106         Mexican\n",
      "4     135105       Fast_Food\n",
      "..       ...             ...\n",
      "911   132005  French Seafood\n",
      "912   132004         Seafood\n",
      "913   132003   International\n",
      "914   132002         Seafood\n",
      "915   132001   Dutch-Belgian\n",
      "\n",
      "[916 rows x 2 columns]\n"
     ]
    }
   ],
   "source": [
    "cuisine[\"Rcuisine\"] = cuisine.groupby('placeID')[\"Rcuisine\"].transform(lambda x : ' '.join(x))\n",
    "print(cuisine) \n",
    "#print(cuisine.groupby('placeID')[\"Rcuisine\"].transform(lambda x : ' '.join(x))) "
   ]
  },
  {
   "cell_type": "code",
   "execution_count": 94,
   "id": "c9d07c1c-1a45-44d1-9f5f-ea207bd4cfc0",
   "metadata": {},
   "outputs": [],
   "source": [
    "rating_cuisine = ratings.merge(cuisine,how='inner',on='placeID')\n",
    "rating_cuisine.head()\n",
    "rating_cuisine = rating_cuisine.drop_duplicates()   "
   ]
  },
  {
   "cell_type": "code",
   "execution_count": 95,
   "id": "1418e511-e2ed-4a52-bffe-8167f5081bc4",
   "metadata": {},
   "outputs": [
    {
     "name": "stdout",
     "output_type": "stream",
     "text": [
      "                              service_rating            rating          \\\n",
      "                                        mean min max      mean min max   \n",
      "Rcuisine                                                                 \n",
      "American                            1.156250   0   2  1.093750   0   2   \n",
      "American Game                       1.000000   0   2  1.428571   1   2   \n",
      "Armenian                            1.250000   1   2  1.250000   1   2   \n",
      "Bakery Cafeteria                    1.400000   1   2  1.400000   0   2   \n",
      "Bar                                 1.057971   0   2  1.173913   0   2   \n",
      "Bar Bar_Pub_Brewery                 1.148148   0   2  1.240741   0   2   \n",
      "Bar Cafeteria                       1.000000   0   2  1.176471   0   2   \n",
      "Bar_Pub_Brewery                     1.800000   1   2  2.000000   2   2   \n",
      "Breakfast-Brunch                    0.888889   0   2  1.000000   0   2   \n",
      "Burgers                             0.882353   0   2  1.000000   0   2   \n",
      "Burgers Fast_Food                   0.800000   0   2  0.800000   0   2   \n",
      "Cafe-Coffee_Shop Cafeteria          1.416667   1   2  1.583333   1   2   \n",
      "Cafeteria                           1.031250   0   2  1.093750   0   2   \n",
      "Cafeteria Contemporary              1.071429   0   2  1.178571   0   2   \n",
      "Cafeteria Fast_Food Pizzeria        0.750000   0   2  1.125000   0   2   \n",
      "Chinese                             1.048780   0   2  1.219512   0   2   \n",
      "Contemporary                        1.750000   1   2  1.750000   1   2   \n",
      "Family                              1.400000   0   2  1.600000   0   2   \n",
      "Family Mexican                      1.750000   1   2  1.500000   1   2   \n",
      "Fast_Food                           0.984375   0   2  1.265625   0   2   \n",
      "Fast_Food Pizzeria                  1.111111   0   2  0.888889   0   2   \n",
      "International                       1.486486   0   2  1.513514   0   2   \n",
      "Italian                             0.961538   0   2  1.038462   0   2   \n",
      "Japanese                            1.275862   0   2  1.344828   0   2   \n",
      "Mexican                             1.069565   0   2  1.173913   0   2   \n",
      "Mexican Mediterranean Burgers       1.000000   0   2  1.750000   1   2   \n",
      "Pizzeria                            1.088235   0   2  1.176471   0   2   \n",
      "Regional                            0.250000   0   1  0.500000   0   1   \n",
      "Seafood                             1.177419   0   2  1.241935   0   2   \n",
      "Vietnamese                          1.166667   0   2  1.166667   0   2   \n",
      "\n",
      "                              food_rating          \n",
      "                                     mean min max  \n",
      "Rcuisine                                           \n",
      "American                         1.125000   0   2  \n",
      "American Game                    1.000000   0   2  \n",
      "Armenian                         2.000000   2   2  \n",
      "Bakery Cafeteria                 1.400000   1   2  \n",
      "Bar                              1.144928   0   2  \n",
      "Bar Bar_Pub_Brewery              1.111111   0   2  \n",
      "Bar Cafeteria                    1.176471   0   2  \n",
      "Bar_Pub_Brewery                  1.800000   1   2  \n",
      "Breakfast-Brunch                 0.777778   0   2  \n",
      "Burgers                          1.352941   0   2  \n",
      "Burgers Fast_Food                0.600000   0   2  \n",
      "Cafe-Coffee_Shop Cafeteria       1.333333   0   2  \n",
      "Cafeteria                        1.062500   0   2  \n",
      "Cafeteria Contemporary           1.071429   0   2  \n",
      "Cafeteria Fast_Food Pizzeria     1.000000   0   2  \n",
      "Chinese                          1.195122   0   2  \n",
      "Contemporary                     1.750000   1   2  \n",
      "Family                           1.700000   0   2  \n",
      "Family Mexican                   1.250000   1   2  \n",
      "Fast_Food                        1.312500   0   2  \n",
      "Fast_Food Pizzeria               1.111111   0   2  \n",
      "International                    1.567568   0   2  \n",
      "Italian                          1.192308   0   2  \n",
      "Japanese                         1.448276   0   2  \n",
      "Mexican                          1.273913   0   2  \n",
      "Mexican Mediterranean Burgers    1.750000   1   2  \n",
      "Pizzeria                         1.147059   0   2  \n",
      "Regional                         1.000000   0   2  \n",
      "Seafood                          1.145161   0   2  \n",
      "Vietnamese                       1.333333   0   2  \n"
     ]
    }
   ],
   "source": [
    "result = rating_cuisine.groupby('Rcuisine').agg({'service_rating': ['mean', 'min', 'max'], \n",
    "                                                 'rating': ['mean', 'min', 'max'], 'food_rating': ['mean', 'min', 'max']})\n",
    "print(result)"
   ]
  },
  {
   "cell_type": "code",
   "execution_count": 96,
   "id": "625a827c-6eaf-47e0-a488-8640d3b2b4eb",
   "metadata": {},
   "outputs": [
    {
     "name": "stdout",
     "output_type": "stream",
     "text": [
      "    userID   latitude   longitude smoker     drink_level dress_preference  \\\n",
      "0    U1001  22.139997 -100.978803  false      abstemious         informal   \n",
      "1    U1002  22.150087 -100.983325  false      abstemious         informal   \n",
      "2    U1003  22.119847 -100.946527  false  social drinker           formal   \n",
      "3    U1004  18.867000  -99.183000  false      abstemious         informal   \n",
      "4    U1004  18.867000  -99.183000  false      abstemious         informal   \n",
      "..     ...        ...         ...    ...             ...              ...   \n",
      "406  U1135  22.170396 -100.949936  false  casual drinker         informal   \n",
      "407  U1135  22.170396 -100.949936  false  casual drinker         informal   \n",
      "408  U1136  22.149607 -100.997235   true  social drinker    no preference   \n",
      "409  U1137  22.144803 -100.944623  false  social drinker           formal   \n",
      "410  U1138  22.152884 -100.939663  false  social drinker           formal   \n",
      "\n",
      "    ambience  transport marital_status        hijos  ...      interest  \\\n",
      "0     family    on foot         single  independent  ...       variety   \n",
      "1     family     public         single  independent  ...    technology   \n",
      "2     family     public         single  independent  ...          none   \n",
      "3     family     public         single  independent  ...       variety   \n",
      "4     family     public         single  independent  ...       variety   \n",
      "..       ...        ...            ...          ...  ...           ...   \n",
      "406   family    on foot         single         kids  ...       variety   \n",
      "407   family    on foot         single         kids  ...       variety   \n",
      "408  friends  car owner         single  independent  ...         retro   \n",
      "409   family     public         single  independent  ...  eco-friendly   \n",
      "410  friends     public         single  independent  ...       variety   \n",
      "\n",
      "             personality  religion      activity   color weight  budget  \\\n",
      "0      thrifty-protector      none       student   black     69  medium   \n",
      "1    hunter-ostentatious  Catholic       student     red     40     low   \n",
      "2            hard-worker  Catholic       student    blue     60     low   \n",
      "3            hard-worker      none  professional   green     44  medium   \n",
      "4            hard-worker      none  professional   green     44  medium   \n",
      "..                   ...       ...           ...     ...    ...     ...   \n",
      "406  hunter-ostentatious  Catholic       student  purple     66     low   \n",
      "407  hunter-ostentatious  Catholic       student  purple     66     low   \n",
      "408    thrifty-protector  Catholic       student   black     50     low   \n",
      "409          hard-worker  Catholic       student    blue     72     low   \n",
      "410    thrifty-protector      none       student    blue     54  medium   \n",
      "\n",
      "    height  Upayment           Rcuisine  \n",
      "0     1.77      cash           American  \n",
      "1     1.87      cash            Mexican  \n",
      "2     1.69      cash            Mexican  \n",
      "3     1.53      cash             Bakery  \n",
      "4     1.53      cash   Breakfast-Brunch  \n",
      "..     ...       ...                ...  \n",
      "406   1.54      cash           Southern  \n",
      "407   1.54      cash  Dessert-Ice_Cream  \n",
      "408   1.60      cash            Mexican  \n",
      "409   1.78      cash            Mexican  \n",
      "410   1.55      cash           Pizzeria  \n",
      "\n",
      "[411 rows x 21 columns]\n"
     ]
    }
   ],
   "source": [
    "uprof = pd.read_csv('userprofile.csv')\n",
    "upay = pd.read_csv('userpayment.csv')\n",
    "ucuis = pd.read_csv('usercuisine.csv')\n",
    "\n",
    "u2 = uprof.merge(upay,how='inner',on='userID')\n",
    "uall = u2.merge(ucuis,how='inner',on='userID') \n",
    "\n",
    "print(uall)"
   ]
  },
  {
   "cell_type": "code",
   "execution_count": 97,
   "id": "e0522274-2533-406c-ad6b-04056b79b7ca",
   "metadata": {},
   "outputs": [
    {
     "data": {
      "text/plain": [
       "'abstemious'"
      ]
     },
     "execution_count": 97,
     "metadata": {},
     "output_type": "execute_result"
    }
   ],
   "source": [
    "uall[\"drink_level\"][1]"
   ]
  },
  {
   "cell_type": "code",
   "execution_count": 106,
   "id": "07af4685-8de8-43a1-a2b9-9b4d6afec3a6",
   "metadata": {},
   "outputs": [
    {
     "ename": "SyntaxError",
     "evalue": "'return' outside function (Temp/ipykernel_25272/841873013.py, line 2)",
     "output_type": "error",
     "traceback": [
      "\u001b[1;36m  File \u001b[1;32m\"C:\\Users\\ytang\\AppData\\Local\\Temp/ipykernel_25272/841873013.py\"\u001b[1;36m, line \u001b[1;32m2\u001b[0m\n\u001b[1;33m    return\u001b[0m\n\u001b[1;37m    ^\u001b[0m\n\u001b[1;31mSyntaxError\u001b[0m\u001b[1;31m:\u001b[0m 'return' outside function\n"
     ]
    }
   ],
   "source": [
    "psui = 0\n",
    "for i in uall[\"drink_level\"]:\n",
    "    if i == \"social drinker\":\n",
    "        print(uall[\"Upayment\"][psui])\n",
    "    psui += 1"
   ]
  },
  {
   "cell_type": "code",
   "execution_count": 110,
   "id": "f9014f85-3a8c-40c5-a951-0a07af507678",
   "metadata": {},
   "outputs": [
    {
     "ename": "NameError",
     "evalue": "name 'r' is not defined",
     "output_type": "error",
     "traceback": [
      "\u001b[1;31m---------------------------------------------------------------------------\u001b[0m",
      "\u001b[1;31mNameError\u001b[0m                                 Traceback (most recent call last)",
      "\u001b[1;32m~\\AppData\\Local\\Temp/ipykernel_25272/2268511795.py\u001b[0m in \u001b[0;36m<module>\u001b[1;34m\u001b[0m\n\u001b[0;32m      1\u001b[0m \u001b[0mifake\u001b[0m \u001b[1;33m=\u001b[0m \u001b[1;36m0\u001b[0m\u001b[1;33m\u001b[0m\u001b[1;33m\u001b[0m\u001b[0m\n\u001b[1;32m----> 2\u001b[1;33m \u001b[0mr\u001b[0m\u001b[1;33m\u001b[0m\u001b[1;33m\u001b[0m\u001b[0m\n\u001b[0m\u001b[0;32m      3\u001b[0m \u001b[1;32mfor\u001b[0m \u001b[0mi\u001b[0m \u001b[1;32min\u001b[0m \u001b[0muall\u001b[0m\u001b[1;33m[\u001b[0m\u001b[1;34m\"religion\"\u001b[0m\u001b[1;33m]\u001b[0m\u001b[1;33m:\u001b[0m\u001b[1;33m\u001b[0m\u001b[1;33m\u001b[0m\u001b[0m\n\u001b[0;32m      4\u001b[0m     \u001b[1;32mif\u001b[0m \u001b[0mi\u001b[0m \u001b[1;33m==\u001b[0m \u001b[1;34m\"Catholic\"\u001b[0m\u001b[1;33m:\u001b[0m\u001b[1;33m\u001b[0m\u001b[1;33m\u001b[0m\u001b[0m\n\u001b[0;32m      5\u001b[0m         \u001b[0mprint\u001b[0m\u001b[1;33m(\u001b[0m\u001b[0muall\u001b[0m\u001b[1;33m[\u001b[0m\u001b[1;34m\"Rcuisine\"\u001b[0m\u001b[1;33m]\u001b[0m\u001b[1;33m[\u001b[0m\u001b[0mifake\u001b[0m\u001b[1;33m]\u001b[0m\u001b[1;33m)\u001b[0m\u001b[1;33m\u001b[0m\u001b[1;33m\u001b[0m\u001b[0m\n",
      "\u001b[1;31mNameError\u001b[0m: name 'r' is not defined"
     ]
    }
   ],
   "source": [
    "ifake = 0\n",
    "for i in uall[\"religion\"]:\n",
    "    if i == \"Catholic\":\n",
    "        print(uall[\"Rcuisine\"][ifake])\n",
    "    ifake += 1"
   ]
  },
  {
   "cell_type": "code",
   "execution_count": 142,
   "id": "d366d442-0e1d-4a94-af1e-9de4b4484168",
   "metadata": {},
   "outputs": [
    {
     "name": "stdout",
     "output_type": "stream",
     "text": [
      "     userID   latitude   longitude smoker     drink_level dress_preference  \\\n",
      "0     U1001  22.139997 -100.978803  false      abstemious         informal   \n",
      "1     U1001  22.139997 -100.978803  false      abstemious         informal   \n",
      "2     U1001  22.139997 -100.978803  false      abstemious         informal   \n",
      "3     U1001  22.139997 -100.978803  false      abstemious         informal   \n",
      "4     U1002  22.150087 -100.983325  false      abstemious         informal   \n",
      "...     ...        ...         ...    ...             ...              ...   \n",
      "3393  U1137  22.144803 -100.944623  false  social drinker           formal   \n",
      "3394  U1137  22.144803 -100.944623  false  social drinker           formal   \n",
      "3395  U1138  22.152884 -100.939663  false  social drinker           formal   \n",
      "3396  U1138  22.152884 -100.939663  false  social drinker           formal   \n",
      "3397  U1138  22.152884 -100.939663  false  social drinker           formal   \n",
      "\n",
      "     ambience transport marital_status        hijos  ...  weight  budget  \\\n",
      "0      family   on foot         single  independent  ...      69  medium   \n",
      "1      family   on foot         single  independent  ...      69  medium   \n",
      "2      family   on foot         single  independent  ...      69  medium   \n",
      "3      family   on foot         single  independent  ...      69  medium   \n",
      "4      family    public         single  independent  ...      40     low   \n",
      "...       ...       ...            ...          ...  ...     ...     ...   \n",
      "3393   family    public         single  independent  ...      72     low   \n",
      "3394   family    public         single  independent  ...      72     low   \n",
      "3395  friends    public         single  independent  ...      54  medium   \n",
      "3396  friends    public         single  independent  ...      54  medium   \n",
      "3397  friends    public         single  independent  ...      54  medium   \n",
      "\n",
      "     height Upayment Rcuisine_x placeID  rating food_rating  service_rating  \\\n",
      "0      1.77     cash   American  135085       0           1               1   \n",
      "1      1.77     cash   American  132825       2           2               1   \n",
      "2      1.77     cash   American  135025       2           2               2   \n",
      "3      1.77     cash   American  135039       1           1               1   \n",
      "4      1.87     cash    Mexican  135085       1           1               1   \n",
      "...     ...      ...        ...     ...     ...         ...             ...   \n",
      "3393   1.78     cash    Mexican  132862       2           2               2   \n",
      "3394   1.78     cash    Mexican  132951       2           2               2   \n",
      "3395   1.55     cash   Pizzeria  132921       2           2               1   \n",
      "3396   1.55     cash   Pizzeria  132922       2           2               2   \n",
      "3397   1.55     cash   Pizzeria  132925       1           2               1   \n",
      "\n",
      "         Rcuisine_y  \n",
      "0         Fast_Food  \n",
      "1           Mexican  \n",
      "2           Mexican  \n",
      "3           Seafood  \n",
      "4         Fast_Food  \n",
      "...             ...  \n",
      "3393  International  \n",
      "3394       American  \n",
      "3395            Bar  \n",
      "3396      Cafeteria  \n",
      "3397        Mexican  \n",
      "\n",
      "[3398 rows x 26 columns]\n"
     ]
    }
   ],
   "source": [
    "utotal = uall.merge(rating_cuisine,how='inner',on='userID') \n",
    "utotal = utotal.drop_duplicates()\n",
    "print(utotal)"
   ]
  },
  {
   "cell_type": "code",
   "execution_count": 148,
   "id": "26f9ef99-cb54-4bae-9454-7ec5af137198",
   "metadata": {},
   "outputs": [
    {
     "name": "stdout",
     "output_type": "stream",
     "text": [
      "[\"('U1002', 'Catholic')\", \"('U1003', 'Catholic')\", \"('U1004', 'none')\", \"('U1006', 'none')\", \"('U1009', 'Catholic')\", \"('U1010', 'none')\", \"('U1015', 'Catholic')\", \"('U1020', 'Catholic')\", \"('U1022', 'Catholic')\", \"('U1023', 'Catholic')\", \"('U1026', 'Catholic')\", \"('U1028', 'Christian')\", \"('U1030', 'Catholic')\", \"('U1033', 'none')\", \"('U1036', 'Catholic')\", \"('U1037', 'Catholic')\", \"('U1038', 'Catholic')\", \"('U1042', 'Christian')\", \"('U1044', 'Catholic')\", \"('U1045', 'Mormon')\", \"('U1048', 'none')\", \"('U1053', 'Catholic')\", \"('U1054', 'Catholic')\", \"('U1056', 'Catholic')\", \"('U1059', 'Catholic')\", \"('U1060', 'Catholic')\", \"('U1061', 'Catholic')\", \"('U1064', 'none')\", \"('U1065', 'Catholic')\", \"('U1067', 'Christian')\", \"('U1068', 'Catholic')\", \"('U1071', 'none')\", \"('U1072', 'Christian')\", \"('U1076', 'Catholic')\", \"('U1077', 'Catholic')\", \"('U1078', 'Catholic')\", \"('U1079', 'Catholic')\", \"('U1080', 'Catholic')\", \"('U1081', 'Catholic')\", \"('U1083', 'none')\", \"('U1084', 'Catholic')\", \"('U1085', 'Catholic')\", \"('U1091', 'none')\", \"('U1096', 'Catholic')\", \"('U1097', 'Catholic')\", \"('U1098', 'Catholic')\", \"('U1099', 'Catholic')\", \"('U1100', 'Christian')\", \"('U1103', 'Jewish')\", \"('U1107', 'Catholic')\", \"('U1108', 'Catholic')\", \"('U1109', 'Catholic')\", \"('U1110', 'Catholic')\", \"('U1111', 'Catholic')\", \"('U1116', 'Catholic')\", \"('U1119', 'Catholic')\", \"('U1120', 'none')\", \"('U1121', 'Catholic')\", \"('U1123', 'Catholic')\", \"('U1125', 'Catholic')\", \"('U1126', 'Catholic')\", \"('U1131', 'none')\", \"('U1132', 'none')\", \"('U1133', 'none')\", \"('U1134', 'Catholic')\", \"('U1136', 'Catholic')\", \"('U1137', 'Catholic')\"]\n"
     ]
    }
   ],
   "source": [
    "out = []\n",
    "for i in range(len(utotal[\"Rcuisine_x\"])):\n",
    "    if utotal[\"Rcuisine_x\"][i] == \"Mexican\" and utotal[\"service_rating\"][i] == 2:\n",
    "        if f\"{utotal['userID'][i], utotal['religion'][i]}\" not in out:\n",
    "            out.append(f\"{utotal['userID'][i], utotal['religion'][i]}\")\n",
    "print(out)"
   ]
  },
  {
   "cell_type": "code",
   "execution_count": 134,
   "id": "7628f0ac-493e-451d-9a93-93505c6eb0b3",
   "metadata": {},
   "outputs": [
    {
     "data": {
      "text/plain": [
       "[Int64Index([   0,    1,    2,    3,    4,    5,    6,    7,    8,    9,\n",
       "             ...\n",
       "             3388, 3389, 3390, 3391, 3392, 3393, 3394, 3395, 3396, 3397],\n",
       "            dtype='int64', length=3398),\n",
       " Index(['userID', 'latitude', 'longitude', 'smoker', 'drink_level',\n",
       "        'dress_preference', 'ambience', 'transport', 'marital_status', 'hijos',\n",
       "        'birth_year', 'interest', 'personality', 'religion', 'activity',\n",
       "        'color', 'weight', 'budget', 'height', 'Upayment', 'Rcuisine_x',\n",
       "        'placeID', 'rating', 'food_rating', 'service_rating', 'Rcuisine_y'],\n",
       "       dtype='object')]"
      ]
     },
     "execution_count": 134,
     "metadata": {},
     "output_type": "execute_result"
    }
   ],
   "source": [
    "type(\"l\")\n",
    "utotal.axes"
   ]
  },
  {
   "cell_type": "code",
   "execution_count": 137,
   "id": "c3b80884-d6bc-40ee-9098-b2eee3a65137",
   "metadata": {},
   "outputs": [
    {
     "data": {
      "text/plain": [
       "True"
      ]
     },
     "execution_count": 137,
     "metadata": {},
     "output_type": "execute_result"
    }
   ],
   "source": [
    "utotal.loc(1)[\"userID\"][0] == \"U1001\""
   ]
  },
  {
   "cell_type": "code",
   "execution_count": null,
   "id": "1f50d946-06c0-497f-ad3d-195810da2c00",
   "metadata": {},
   "outputs": [],
   "source": []
  }
 ],
 "metadata": {
  "kernelspec": {
   "display_name": "Python 3 (ipykernel)",
   "language": "python",
   "name": "python3"
  },
  "language_info": {
   "codemirror_mode": {
    "name": "ipython",
    "version": 3
   },
   "file_extension": ".py",
   "mimetype": "text/x-python",
   "name": "python",
   "nbconvert_exporter": "python",
   "pygments_lexer": "ipython3",
   "version": "3.9.7"
  }
 },
 "nbformat": 4,
 "nbformat_minor": 5
}
