{
 "cells": [
  {
   "cell_type": "code",
   "execution_count": 2,
   "id": "474265e7",
   "metadata": {},
   "outputs": [
    {
     "name": "stdout",
     "output_type": "stream",
     "text": [
      "34886\n"
     ]
    }
   ],
   "source": [
    "import pandas as pd\n",
    "plots = pd.read_csv(r'wiki_movie_plots_deduped.csv')\n",
    "#1\n",
    "print(len(plots))\n"
   ]
  },
  {
   "cell_type": "code",
   "execution_count": 3,
   "id": "a7b49495",
   "metadata": {},
   "outputs": [
    {
     "name": "stdout",
     "output_type": "stream",
     "text": [
      "(34886, 8)\n"
     ]
    }
   ],
   "source": [
    "#3\n",
    "print(plots.shape)"
   ]
  },
  {
   "cell_type": "code",
   "execution_count": 4,
   "id": "a0475452",
   "metadata": {},
   "outputs": [
    {
     "name": "stdout",
     "output_type": "stream",
     "text": [
      "<class 'pandas.core.frame.DataFrame'>\n",
      "RangeIndex: 34886 entries, 0 to 34885\n",
      "Data columns (total 8 columns):\n",
      " #   Column            Non-Null Count  Dtype \n",
      "---  ------            --------------  ----- \n",
      " 0   Release Year      34886 non-null  int64 \n",
      " 1   Title             34886 non-null  object\n",
      " 2   Origin/Ethnicity  34886 non-null  object\n",
      " 3   Director          34886 non-null  object\n",
      " 4   Cast              33464 non-null  object\n",
      " 5   Genre             34886 non-null  object\n",
      " 6   Wiki Page         34886 non-null  object\n",
      " 7   Plot              34886 non-null  object\n",
      "dtypes: int64(1), object(7)\n",
      "memory usage: 2.1+ MB\n",
      "None\n"
     ]
    }
   ],
   "source": [
    "#2,4\n",
    "print(plots.info())"
   ]
  },
  {
   "cell_type": "code",
   "execution_count": 14,
   "id": "5fb973b5",
   "metadata": {},
   "outputs": [
    {
     "name": "stdout",
     "output_type": "stream",
     "text": [
      "       Release Year               Title Origin/Ethnicity  \\\n",
      "34878          2014    Mandıra Filozofu          Turkish   \n",
      "34879          2014        Winter Sleep          Turkish   \n",
      "34880          2014               Sivas          Turkish   \n",
      "34881          2014   The Water Diviner          Turkish   \n",
      "34882          2017  Çalgı Çengi İkimiz          Turkish   \n",
      "34883          2017        Olanlar Oldu          Turkish   \n",
      "34884          2017    Non-Transferable          Turkish   \n",
      "34885          2017  İstanbul Kırmızısı          Turkish   \n",
      "\n",
      "                          Director  \\\n",
      "34878  Director: Müfit Can Saçıntı   \n",
      "34879  Director: Nuri Bilge Ceylan   \n",
      "34880       Director: Kaan Müjdeci   \n",
      "34881      Director: Russell Crowe   \n",
      "34882               Selçuk Aydemir   \n",
      "34883                  Hakan Algül   \n",
      "34884              Brendan Bradley   \n",
      "34885               Ferzan Özpetek   \n",
      "\n",
      "                                                    Cast            Genre  \\\n",
      "34878  Director: Müfit Can Saçıntı\\r\\nCast: Rasim Özt...          unknown   \n",
      "34879  Director: Nuri Bilge Ceylan\\r\\nCast: Haluk Bil...          unknown   \n",
      "34880         Director: Kaan Müjdeci\\r\\nCast: Dogan Izci          unknown   \n",
      "34881  Director: Russell Crowe\\r\\nCast: Russell Crowe...          unknown   \n",
      "34882                          Ahmet Kural, Murat Cemcir           comedy   \n",
      "34883              Ata Demirer, Tuvana Türkay, Ülkü Duru           comedy   \n",
      "34884  YouTubers Shanna Malcolm, Shira Lazar, Sara Fl...  romantic comedy   \n",
      "34885  Halit Ergenç, Tuba Büyüküstün, Mehmet Günsür, ...         romantic   \n",
      "\n",
      "                                               Wiki Page  \\\n",
      "34878  https://en.wikipedia.org/wiki/Mand%C4%B1ra_Fil...   \n",
      "34879  https://en.wikipedia.org/wiki/Winter_Sleep_(film)   \n",
      "34880         https://en.wikipedia.org/wiki/Sivas_(film)   \n",
      "34881    https://en.wikipedia.org/wiki/The_Water_Diviner   \n",
      "34882  https://en.wikipedia.org/wiki/%C3%87alg%C4%B1_...   \n",
      "34883         https://en.wikipedia.org/wiki/Olanlar_Oldu   \n",
      "34884  https://en.wikipedia.org/wiki/Non-Transferable...   \n",
      "34885  https://en.wikipedia.org/wiki/%C4%B0stanbul_K%...   \n",
      "\n",
      "                                                    Plot  \n",
      "34878  Cavit an ambitious industralist in İstanbul pl...  \n",
      "34879  Aydın, a former actor, owns a mountaintop hote...  \n",
      "34880  The film follows an eleven-year-old boy named ...  \n",
      "34881  The film begins in 1919, just after World War ...  \n",
      "34882  Two musicians, Salih and Gürkan, described the...  \n",
      "34883  Zafer, a sailor living with his mother Döndü i...  \n",
      "34884  The film centres around a young woman named Am...  \n",
      "34885  The writer Orhan Şahin returns to İstanbul aft...  \n"
     ]
    }
   ],
   "source": [
    "#5\n",
    "print(plots[len(plots)-8:])"
   ]
  },
  {
   "cell_type": "code",
   "execution_count": 13,
   "id": "ef135a88",
   "metadata": {},
   "outputs": [
    {
     "name": "stdout",
     "output_type": "stream",
     "text": [
      "       Release Year               Title Origin/Ethnicity  \\\n",
      "34878          2014    Mandıra Filozofu          Turkish   \n",
      "34879          2014        Winter Sleep          Turkish   \n",
      "34880          2014               Sivas          Turkish   \n",
      "34881          2014   The Water Diviner          Turkish   \n",
      "34882          2017  Çalgı Çengi İkimiz          Turkish   \n",
      "34883          2017        Olanlar Oldu          Turkish   \n",
      "34884          2017    Non-Transferable          Turkish   \n",
      "34885          2017  İstanbul Kırmızısı          Turkish   \n",
      "\n",
      "                          Director  \\\n",
      "34878  Director: Müfit Can Saçıntı   \n",
      "34879  Director: Nuri Bilge Ceylan   \n",
      "34880       Director: Kaan Müjdeci   \n",
      "34881      Director: Russell Crowe   \n",
      "34882               Selçuk Aydemir   \n",
      "34883                  Hakan Algül   \n",
      "34884              Brendan Bradley   \n",
      "34885               Ferzan Özpetek   \n",
      "\n",
      "                                                    Cast            Genre  \\\n",
      "34878  Director: Müfit Can Saçıntı\\r\\nCast: Rasim Özt...          unknown   \n",
      "34879  Director: Nuri Bilge Ceylan\\r\\nCast: Haluk Bil...          unknown   \n",
      "34880         Director: Kaan Müjdeci\\r\\nCast: Dogan Izci          unknown   \n",
      "34881  Director: Russell Crowe\\r\\nCast: Russell Crowe...          unknown   \n",
      "34882                          Ahmet Kural, Murat Cemcir           comedy   \n",
      "34883              Ata Demirer, Tuvana Türkay, Ülkü Duru           comedy   \n",
      "34884  YouTubers Shanna Malcolm, Shira Lazar, Sara Fl...  romantic comedy   \n",
      "34885  Halit Ergenç, Tuba Büyüküstün, Mehmet Günsür, ...         romantic   \n",
      "\n",
      "                                               Wiki Page  \\\n",
      "34878  https://en.wikipedia.org/wiki/Mand%C4%B1ra_Fil...   \n",
      "34879  https://en.wikipedia.org/wiki/Winter_Sleep_(film)   \n",
      "34880         https://en.wikipedia.org/wiki/Sivas_(film)   \n",
      "34881    https://en.wikipedia.org/wiki/The_Water_Diviner   \n",
      "34882  https://en.wikipedia.org/wiki/%C3%87alg%C4%B1_...   \n",
      "34883         https://en.wikipedia.org/wiki/Olanlar_Oldu   \n",
      "34884  https://en.wikipedia.org/wiki/Non-Transferable...   \n",
      "34885  https://en.wikipedia.org/wiki/%C4%B0stanbul_K%...   \n",
      "\n",
      "                                                    Plot  \n",
      "34878  Cavit an ambitious industralist in İstanbul pl...  \n",
      "34879  Aydın, a former actor, owns a mountaintop hote...  \n",
      "34880  The film follows an eleven-year-old boy named ...  \n",
      "34881  The film begins in 1919, just after World War ...  \n",
      "34882  Two musicians, Salih and Gürkan, described the...  \n",
      "34883  Zafer, a sailor living with his mother Döndü i...  \n",
      "34884  The film centres around a young woman named Am...  \n",
      "34885  The writer Orhan Şahin returns to İstanbul aft...  \n"
     ]
    }
   ],
   "source": [
    "#6\n",
    "print(plots.tail(8))"
   ]
  },
  {
   "cell_type": "code",
   "execution_count": 10,
   "id": "29be5796",
   "metadata": {},
   "outputs": [
    {
     "name": "stdout",
     "output_type": "stream",
     "text": [
      "   Release Year                             Title Origin/Ethnicity  \\\n",
      "0          1901            Kansas Saloon Smashers         American   \n",
      "1          1901     Love by the Light of the Moon         American   \n",
      "2          1901           The Martyred Presidents         American   \n",
      "3          1901  Terrible Teddy, the Grizzly King         American   \n",
      "4          1902            Jack and the Beanstalk         American   \n",
      "\n",
      "                             Director Cast    Genre  \\\n",
      "0                             Unknown  NaN  unknown   \n",
      "1                             Unknown  NaN  unknown   \n",
      "2                             Unknown  NaN  unknown   \n",
      "3                             Unknown  NaN  unknown   \n",
      "4  George S. Fleming, Edwin S. Porter  NaN  unknown   \n",
      "\n",
      "                                           Wiki Page  \\\n",
      "0  https://en.wikipedia.org/wiki/Kansas_Saloon_Sm...   \n",
      "1  https://en.wikipedia.org/wiki/Love_by_the_Ligh...   \n",
      "2  https://en.wikipedia.org/wiki/The_Martyred_Pre...   \n",
      "3  https://en.wikipedia.org/wiki/Terrible_Teddy,_...   \n",
      "4  https://en.wikipedia.org/wiki/Jack_and_the_Bea...   \n",
      "\n",
      "                                                Plot  \n",
      "0  A bartender is working at a saloon, serving dr...  \n",
      "1  The moon, painted with a smiling face hangs ov...  \n",
      "2  The film, just over a minute long, is composed...  \n",
      "3  Lasting just 61 seconds and consisting of two ...  \n",
      "4  The earliest known adaptation of the classic f...  \n"
     ]
    }
   ],
   "source": [
    "#7\n",
    "print(plots[:5])"
   ]
  },
  {
   "cell_type": "code",
   "execution_count": 6,
   "id": "e894357e",
   "metadata": {},
   "outputs": [
    {
     "name": "stdout",
     "output_type": "stream",
     "text": [
      "   Release Year                             Title Origin/Ethnicity  \\\n",
      "0          1901            Kansas Saloon Smashers         American   \n",
      "1          1901     Love by the Light of the Moon         American   \n",
      "2          1901           The Martyred Presidents         American   \n",
      "3          1901  Terrible Teddy, the Grizzly King         American   \n",
      "4          1902            Jack and the Beanstalk         American   \n",
      "\n",
      "                             Director Cast    Genre  \\\n",
      "0                             Unknown  NaN  unknown   \n",
      "1                             Unknown  NaN  unknown   \n",
      "2                             Unknown  NaN  unknown   \n",
      "3                             Unknown  NaN  unknown   \n",
      "4  George S. Fleming, Edwin S. Porter  NaN  unknown   \n",
      "\n",
      "                                           Wiki Page  \\\n",
      "0  https://en.wikipedia.org/wiki/Kansas_Saloon_Sm...   \n",
      "1  https://en.wikipedia.org/wiki/Love_by_the_Ligh...   \n",
      "2  https://en.wikipedia.org/wiki/The_Martyred_Pre...   \n",
      "3  https://en.wikipedia.org/wiki/Terrible_Teddy,_...   \n",
      "4  https://en.wikipedia.org/wiki/Jack_and_the_Bea...   \n",
      "\n",
      "                                                Plot  \n",
      "0  A bartender is working at a saloon, serving dr...  \n",
      "1  The moon, painted with a smiling face hangs ov...  \n",
      "2  The film, just over a minute long, is composed...  \n",
      "3  Lasting just 61 seconds and consisting of two ...  \n",
      "4  The earliest known adaptation of the classic f...  \n"
     ]
    }
   ],
   "source": [
    "#8\n",
    "print(plots.head())"
   ]
  },
  {
   "cell_type": "code",
   "execution_count": 17,
   "id": "43de6282",
   "metadata": {},
   "outputs": [
    {
     "data": {
      "text/plain": [
       "unknown                          6083\n",
       "drama                            5964\n",
       "comedy                           4379\n",
       "horror                           1167\n",
       "action                           1098\n",
       "                                 ... \n",
       "cbc-tv miniseries                   1\n",
       "bio-drama                           1\n",
       "national film board docudrama       1\n",
       "cult drama                          1\n",
       "horror romantic comedy              1\n",
       "Name: Genre, Length: 2265, dtype: int64"
      ]
     },
     "execution_count": 17,
     "metadata": {},
     "output_type": "execute_result"
    }
   ],
   "source": [
    "#9\n",
    "plots.Genre.value_counts()"
   ]
  },
  {
   "cell_type": "code",
   "execution_count": 19,
   "id": "1748a635",
   "metadata": {},
   "outputs": [
    {
     "data": {
      "text/plain": [
       "Unknown                1124\n",
       "Michael Curtiz           79\n",
       "Hanna-Barbera            77\n",
       "Lloyd Bacon              66\n",
       "Jules White              63\n",
       "                       ... \n",
       "Brian Clemens             1\n",
       "Lester James Peries       1\n",
       "Maurice Hamblin           1\n",
       "Trevor Wrenn              1\n",
       "Ferzan Özpetek            1\n",
       "Name: Director, Length: 12593, dtype: int64"
      ]
     },
     "execution_count": 19,
     "metadata": {},
     "output_type": "execute_result"
    }
   ],
   "source": [
    "#10\n",
    "plots.Director.value_counts()"
   ]
  },
  {
   "cell_type": "code",
   "execution_count": 25,
   "id": "3ba65947",
   "metadata": {},
   "outputs": [
    {
     "data": {
      "text/plain": [
       "American        17377\n",
       "British          3670\n",
       "Bollywood        2931\n",
       "Tamil            2599\n",
       "Telugu           1311\n",
       "Japanese         1188\n",
       "Malayalam        1095\n",
       "Hong Kong         791\n",
       "Canadian          723\n",
       "Australian        576\n",
       "South_Korean      522\n",
       "Chinese           463\n",
       "Kannada           444\n",
       "Bengali           306\n",
       "Russian           232\n",
       "Marathi           141\n",
       "Filipino          128\n",
       "Bangladeshi        87\n",
       "Punjabi            84\n",
       "Malaysian          70\n",
       "Turkish            70\n",
       "Egyptian           67\n",
       "Assamese            9\n",
       "Maldivian           2\n",
       "Name: Origin/Ethnicity, dtype: int64"
      ]
     },
     "execution_count": 25,
     "metadata": {},
     "output_type": "execute_result"
    }
   ],
   "source": [
    "#11 \n",
    "plots[\"Origin/Ethnicity\"].value_counts()"
   ]
  },
  {
   "cell_type": "code",
   "execution_count": 23,
   "id": "a40466ad",
   "metadata": {},
   "outputs": [
    {
     "data": {
      "text/plain": [
       "Cinderella               8\n",
       "The Three Musketeers     8\n",
       "Treasure Island          7\n",
       "Hero                     6\n",
       "Alice in Wonderland      6\n",
       "                        ..\n",
       "Leap of Faith            1\n",
       "A League of Their Own    1\n",
       "The Lawnmower Man        1\n",
       "Ladybugs                 1\n",
       "İstanbul Kırmızısı       1\n",
       "Name: Title, Length: 32432, dtype: int64"
      ]
     },
     "execution_count": 23,
     "metadata": {},
     "output_type": "execute_result"
    }
   ],
   "source": [
    "#12\n",
    "plots.Title.value_counts()"
   ]
  },
  {
   "cell_type": "code",
   "execution_count": 27,
   "id": "6ead6ae7",
   "metadata": {},
   "outputs": [
    {
     "data": {
      "text/plain": [
       "2013    1021\n",
       "2014     929\n",
       "2012     874\n",
       "2011     858\n",
       "2010     825\n",
       "        ... \n",
       "1906       3\n",
       "1905       2\n",
       "1903       2\n",
       "1904       1\n",
       "1902       1\n",
       "Name: Release Year, Length: 117, dtype: int64"
      ]
     },
     "execution_count": 27,
     "metadata": {},
     "output_type": "execute_result"
    }
   ],
   "source": [
    "#12\n",
    "plots[\"Release Year\"].value_counts()"
   ]
  },
  {
   "cell_type": "code",
   "execution_count": null,
   "id": "34231b38",
   "metadata": {},
   "outputs": [],
   "source": [
    "Release Year\n",
    "Title\n",
    "Origin/Ethnicity\n",
    "Director\n",
    "Cast\n",
    "Genre\n",
    "Wiki Page\n",
    "Plot"
   ]
  }
 ],
 "metadata": {
  "kernelspec": {
   "display_name": "Python 3 (ipykernel)",
   "language": "python",
   "name": "python3"
  },
  "language_info": {
   "codemirror_mode": {
    "name": "ipython",
    "version": 3
   },
   "file_extension": ".py",
   "mimetype": "text/x-python",
   "name": "python",
   "nbconvert_exporter": "python",
   "pygments_lexer": "ipython3",
   "version": "3.9.7"
  }
 },
 "nbformat": 4,
 "nbformat_minor": 5
}
